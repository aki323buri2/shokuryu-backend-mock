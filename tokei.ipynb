{
 "cells": [
  {
   "cell_type": "code",
   "execution_count": null,
   "metadata": {},
   "outputs": [],
   "source": [
    "from utilities.common import fullpath, ensure_dir, load_csv, save_csv, dotdict\n",
    "import pandas as pd "
   ]
  },
  {
   "cell_type": "code",
   "execution_count": null,
   "metadata": {},
   "outputs": [],
   "source": [
    "files = dotdict()\n",
    "files.zaiko1 = fullpath(\"files/在庫(分類別_支社別_商品部)平成29年2月20日テーブル.xlsx\")\n",
    "files.zaiko2 = fullpath(\"files/在庫(分類別_支社別_商品部)平成29年2月28日テーブル.xlsx\")\n",
    "files.arari = fullpath(\"files/売上粗利（分類別_支社別）平成29年1月単月・累計テーブル.csv\")\n",
    "files.tokei1 = fullpath(\"files/統計用分類（20170220現在）.xlsx\")\n",
    "files.tokei2 = fullpath(\"files/統計用分類(20170228在庫資料分追加後).xlsx\")\n",
    "{ n: v.exists() for n, v in files.items() }"
   ]
  },
  {
   "cell_type": "code",
   "execution_count": null,
   "metadata": {},
   "outputs": [],
   "source": [
    "name = \"tokei1\"##############\n",
    "name = \"tokei2\"##############\n",
    "filename = files[name]\n",
    "df = pd.read_excel(filename)"
   ]
  },
  {
   "cell_type": "code",
   "execution_count": null,
   "metadata": {},
   "outputs": [],
   "source": [
    "df.transpose()[0]"
   ]
  },
  {
   "cell_type": "code",
   "execution_count": null,
   "metadata": {},
   "outputs": [],
   "source": [
    "names = {\n",
    "  \"品種ＣＤ\"    : \"hincd\"   ,# 15002429\n",
    "  \"品名\"        : \"hinnm\"       ,# Vﾑﾄｳｴﾋﾞ ｴｸｱﾄ\n",
    "  \"サイズ\"      : \"size\"     ,# 36-40\n",
    "  \"容量\"        : \"yoryo\"       ,# 2000.0\n",
    "  \"重量\"        : \"juryo\"       ,# G\n",
    "  \"入数\"        : \"irisu\"       ,# 10\n",
    "  \"Unnamed: 6\"  : \"bunrui\" ,# 101001\n",
    "  \"大分類\"      : \"daibun\"     ,# バナメイ\n",
    "  \"中分類\"      : \"chubun\"     ,# バナメイ\n",
    "  \"小分類\"      : \"syobun\"     ,# バナメイエビ\n",
    "  \"種\"          : \"syu\"         ,# バナメイエビ\n",
    "  \"形状部位\"    : \"kejo\"   ,# 無頭\n",
    "  \"加工方法\"    : \"kako\"   ,# -\n",
    "  \"Unnamed: 13\" : \"Unnamed_13\",# NaN\n",
    "  \"Unnamed: 14\" : \"Unnamed_14\",# NaN\n",
    "  \"Unnamed: 15\" : \"Unnamed_15\",# NaN\n",
    "  \"Unnamed: 16\" : \"Unnamed_16\",# NaN\n",
    "}\n",
    "df.rename(columns=names).transpose()"
   ]
  },
  {
   "cell_type": "code",
   "execution_count": null,
   "metadata": {},
   "outputs": [],
   "source": [
    "columns = pd.DataFrame([dict(name=v, title=n) for n, v in names.items()])\n",
    "save_csv(columns, ensure_dir(\"csv\") / f\"{name}_columns.csv\")"
   ]
  },
  {
   "cell_type": "code",
   "execution_count": null,
   "metadata": {},
   "outputs": [],
   "source": [
    "save_csv(df.rename(columns=names).fillna(\"\"), ensure_dir(\"csv\") / f\"{name}.csv\")"
   ]
  },
  {
   "cell_type": "code",
   "execution_count": null,
   "metadata": {},
   "outputs": [],
   "source": []
  }
 ],
 "metadata": {
  "interpreter": {
   "hash": "6429f210dbfecc927c626fb19dfa6f2569cb4dcb3e886165939e82bf1eae0ce3"
  },
  "kernelspec": {
   "display_name": "Python 3.10.4 ('.venv': poetry)",
   "language": "python",
   "name": "python3"
  },
  "language_info": {
   "codemirror_mode": {
    "name": "ipython",
    "version": 3
   },
   "file_extension": ".py",
   "mimetype": "text/x-python",
   "name": "python",
   "nbconvert_exporter": "python",
   "pygments_lexer": "ipython3",
   "version": "3.10.4"
  },
  "orig_nbformat": 4
 },
 "nbformat": 4,
 "nbformat_minor": 2
}
