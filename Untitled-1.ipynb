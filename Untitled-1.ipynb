{
 "cells": [
  {
   "cell_type": "code",
   "execution_count": 56,
   "metadata": {},
   "outputs": [],
   "source": [
    "from utilities.common import fullpath, ensure_dir, dotdict, load_csv, save_csv\n",
    "from dateutil.parser import parse \n",
    "\n",
    "def query_urias(kjob, syozok):\n",
    "  # kjob = \"2022-04-30\"\n",
    "  # syozok=\"170\"\n",
    "  # syozok=\"910\"\n",
    "  kjob = parse(kjob).date()\n",
    "  syozok = str(syozok)\n",
    "  filename = fullpath(f\"csv/{kjob}_{syozok}_urias.csv\")\n",
    "  df = load_csv(filename, dtype=str)\n",
    "  # float: \n",
    "  for name in [\n",
    "    \"uirisu_h\", \n",
    "    \"ukosu_h\", \n",
    "    \"usuryo_h\", \n",
    "    \"ujyury_h\", \n",
    "    \"utanka_h\", \n",
    "    \"zkmtan_h\", \n",
    "    \"kkosu\", \n",
    "    \"ksuryo\", \n",
    "    \"kjyury\", \n",
    "    \"knsury\", \n",
    "    \"knjyur\", \n",
    "    \"genkak\", \n",
    "    \"uirisu\", \n",
    "    \"ukosu\", \n",
    "    \"usuryo\", \n",
    "    \"ujyury\", \n",
    "    \"utanka\", \n",
    "    \"zkmtan\", \n",
    "  ]:\n",
    "    df[name] = df[name].replace(\"\", 0).astype(float)\n",
    "  # int: \n",
    "  for name in [\n",
    "    \"knrino\", \n",
    "    \"tokuno\", \n",
    "    \"syaten_n\", \n",
    "    \"ukin_h\", \n",
    "    \"zkmkin_h\", \n",
    "    \"kkin\", \n",
    "    \"knrnor\", \n",
    "    \"tokuno_b\", \n",
    "    \"ukin\", \n",
    "    \"zkmkin\", \n",
    "  ]:\n",
    "    df[name] = df[name].replace(\"\", 0).astype(float).astype(int) \n",
    "  return df"
   ]
  }
 ],
 "metadata": {
  "interpreter": {
   "hash": "6429f210dbfecc927c626fb19dfa6f2569cb4dcb3e886165939e82bf1eae0ce3"
  },
  "kernelspec": {
   "display_name": "Python 3.10.4 ('.venv': poetry)",
   "language": "python",
   "name": "python3"
  },
  "language_info": {
   "codemirror_mode": {
    "name": "ipython",
    "version": 3
   },
   "file_extension": ".py",
   "mimetype": "text/x-python",
   "name": "python",
   "nbconvert_exporter": "python",
   "pygments_lexer": "ipython3",
   "version": "3.10.4"
  },
  "orig_nbformat": 4
 },
 "nbformat": 4,
 "nbformat_minor": 2
}
