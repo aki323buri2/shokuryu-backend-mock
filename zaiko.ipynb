{
 "cells": [
  {
   "cell_type": "code",
   "execution_count": null,
   "metadata": {},
   "outputs": [],
   "source": [
    "from utilities.common import fullpath, ensure_dir, load_csv, save_csv, dotdict\n",
    "import pandas as pd "
   ]
  },
  {
   "cell_type": "code",
   "execution_count": null,
   "metadata": {},
   "outputs": [],
   "source": [
    "files = dotdict()\n",
    "files.zaiko1 = fullpath(\"files/在庫(分類別_支社別_商品部)平成29年2月20日テーブル.xlsx\")\n",
    "files.zaiko2 = fullpath(\"files/在庫(分類別_支社別_商品部)平成29年2月28日テーブル.xlsx\")\n",
    "files.arari = fullpath(\"files/売上粗利（分類別_支社別）平成29年1月単月・累計テーブル.csv\")\n",
    "{ n: v.exists() for n, v in files.items() }"
   ]
  },
  {
   "cell_type": "code",
   "execution_count": null,
   "metadata": {},
   "outputs": [],
   "source": [
    "name = \"zaiko1\"################\n",
    "# name = \"zaiko2\"################\n",
    "filename = files[name]\n",
    "df = pd.read_excel(filename, \n",
    "  sheet_name=\"一覧\", \n",
    "  ).fillna(\"\")"
   ]
  },
  {
   "cell_type": "code",
   "execution_count": null,
   "metadata": {},
   "outputs": [],
   "source": [
    "names = {\n",
    "  \"課名\"             :\"kanm\"          ,# 海老１課（東日本）\n",
    "  \"支社\"             :\"sisya\"         ,# 東日本\n",
    "  \"部\"               :\"bu\"            ,# 商品１部\n",
    "  \"課\"               :\"ka\"            ,# 海老課\n",
    "  \"担当名\"           :\"tanto\"         ,# 市販\n",
    "  \"元伝№\"            :\"moto_denno\"    ,# 1158369\n",
    "  \"元\\nＳＥＱ\"       :\"moto_seq\"      ,# 6\n",
    "  \"伝№\"              :\"denno\"         ,# 1158369\n",
    "  \"ＳＥＱ\"           :\"seq\"           ,# 6\n",
    "  \"品種CD\"           :\"hincd\"        ,# 15058990\n",
    "  \"品名\"             :\"hinmei\"        ,# VﾑﾄｳｴﾋﾞIQFﾖｳ\n",
    "  \"サイズ\"           :\"size\"          ,# MIX\n",
    "  \"容量\"             :\"yoryo\"         ,# 5000\n",
    "  \"重量\"             :\"juryo\"         ,# G\n",
    "  \"入数\"             :\"irisu\"         ,# 1\n",
    "  \"分類CD\"           :\"bunrui\"        ,# 101001\n",
    "  \"大分類\"           :\"daibun\"       ,# 101 バナメイ\n",
    "  \"中分類\"           :\"chubun\"       ,# 101001 バナメイ\n",
    "  \"小分類\"           :\"syobun\"       ,# バナメイエビ\n",
    "  \"種\"               :\"syu\"           ,# バナメイエビ\n",
    "  \"形状部位\"         :\"kejo\"         ,# 無頭\n",
    "  \"加工方法\"         :\"kako\"         ,# -\n",
    "  \"仕入先\\nＣＤ\"     :\"shiren\"       ,# 3917\n",
    "  \"仕入先名\"         :\"shinm\"         ,# 川達水産（株）\n",
    "  \"元入庫日\"         :\"moto_nyukob\"   ,# 2016-07-08 00:00:00\n",
    "  \"在庫年齢\"         :\"znen\"        ,# ７～９ヵ月\n",
    "  \"元枚数\"           :\"moto_zmaisu\"   ,# 5\n",
    "  \"評価単価\"         :\"hyotan\"         ,# 3210\n",
    "  \"元金額\"           :\"moto_kin\"      ,# 16050\n",
    "  \"前月末\\n在庫枚数\" :\"zen_zmaisu\"     ,# 4\n",
    "  \"前月末\\n在庫金額\" :\"zen_zkin\"       ,# 12840\n",
    "  \"当日\\n在庫枚数\"   :\"tou_zmaisu\"     ,# 4\n",
    "  \"当日在庫重量\"     :\"tou_zjuryo\"     ,# 0.02\n",
    "  \"当日\\n在庫金額\"   :\"tou_zkin\"       ,# 12840\n",
    "  \"＠円/kg\"          :\"kgtan\"         ,# 642.0\n",
    "  \"粗利\"             :\"arari\"         ,# 0\n",
    "}\n",
    "# df.rename(columns=names)"
   ]
  },
  {
   "cell_type": "code",
   "execution_count": null,
   "metadata": {},
   "outputs": [],
   "source": [
    "\n",
    "columns = pd.DataFrame([dict(name=v, title=n) for n, v in names.items()])\n",
    "save_csv(columns, ensure_dir(\"csv\") / f\"{name}_columns.csv\")"
   ]
  },
  {
   "cell_type": "code",
   "execution_count": null,
   "metadata": {},
   "outputs": [],
   "source": [
    "df = df.rename(columns=names)\n",
    "round(df.kgtan).astype(int)"
   ]
  },
  {
   "cell_type": "code",
   "execution_count": null,
   "metadata": {},
   "outputs": [],
   "source": [
    "save_csv(df, ensure_dir(\"csv\") / f\"{name}.csv\")"
   ]
  },
  {
   "cell_type": "code",
   "execution_count": null,
   "metadata": {},
   "outputs": [],
   "source": []
  }
 ],
 "metadata": {
  "interpreter": {
   "hash": "6429f210dbfecc927c626fb19dfa6f2569cb4dcb3e886165939e82bf1eae0ce3"
  },
  "kernelspec": {
   "display_name": "Python 3.10.4 ('.venv': poetry)",
   "language": "python",
   "name": "python3"
  },
  "language_info": {
   "codemirror_mode": {
    "name": "ipython",
    "version": 3
   },
   "file_extension": ".py",
   "mimetype": "text/x-python",
   "name": "python",
   "nbconvert_exporter": "python",
   "pygments_lexer": "ipython3",
   "version": "3.10.4"
  },
  "orig_nbformat": 4
 },
 "nbformat": 4,
 "nbformat_minor": 2
}
