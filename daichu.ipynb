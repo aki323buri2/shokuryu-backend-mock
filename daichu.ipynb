{
 "cells": [
  {
   "cell_type": "code",
   "execution_count": null,
   "metadata": {},
   "outputs": [],
   "source": [
    "from utilities.common import fullpath, ensure_dir, load_csv, save_csv, dotdict\n",
    "import pandas as pd "
   ]
  },
  {
   "cell_type": "code",
   "execution_count": null,
   "metadata": {},
   "outputs": [],
   "source": [
    "files = dotdict()\n",
    "files.zaiko1 = fullpath(\"files/在庫(分類別_支社別_商品部)平成29年2月20日テーブル.xlsx\")\n",
    "files.zaiko2 = fullpath(\"files/在庫(分類別_支社別_商品部)平成29年2月28日テーブル.xlsx\")\n",
    "files.arari = fullpath(\"files/売上粗利（分類別_支社別）平成29年1月単月・累計テーブル.csv\")\n",
    "files.tokei1 = fullpath(\"files/統計用分類（20170220現在）.xlsx\")\n",
    "files.tokei2 = fullpath(\"files/統計用分類(20170228在庫資料分追加後).xlsx\")\n",
    "{ n: v.exists() for n, v in files.items() }"
   ]
  },
  {
   "cell_type": "code",
   "execution_count": null,
   "metadata": {},
   "outputs": [],
   "source": [
    "name = \"tokei1\"#################\n",
    "name = \"tokei2\"#################\n",
    "filename = files[name]\n",
    "df = pd.read_excel(filename, sheet_name=\"大分類中分類\")"
   ]
  },
  {
   "cell_type": "code",
   "execution_count": null,
   "metadata": {},
   "outputs": [],
   "source": [
    "df.transpose()[0]"
   ]
  },
  {
   "cell_type": "code",
   "execution_count": null,
   "metadata": {},
   "outputs": [],
   "source": [
    "names = {\n",
    "  \"大分類\"       : \"daibcd\"        ,# 101\n",
    "  \"Unnamed: 1\"   : \"daibun\"       ,# バナメイ\n",
    "  \"中CD\"         : \"chubcd_tail\"  ,# 1\n",
    "  \"中分類\"       : \"chubcd\"       ,# 101001\n",
    "  \"Unnamed: 4\"   : \"daibun\"       ,# バナメイ\n",
    "  \"Unnamed: 5\"   : \"chubun\"       ,# バナメイバナメイ\n",
    "  \"Unnamed: 6\"   : \"chubcd2_\"     ,# 101001\n",
    "  \"Unnamed: 7\"   : \"daibun_full\"  ,# 101 バナメイ\n",
    "  \"Unnamed: 8\"   : \"chubun_full\"  ,# 101001 バナメイ\n",
    "}\n",
    "df.rename(columns=names).transpose()"
   ]
  },
  {
   "cell_type": "code",
   "execution_count": null,
   "metadata": {},
   "outputs": [],
   "source": [
    "name=\"daichu1\"###########\n",
    "name=\"daichu2\"###########\n",
    "columns = pd.DataFrame([dict(name=v, title=n) for n, v in names.items()])\n",
    "save_csv(columns, ensure_dir(\"csv\") / f\"{name}_columns.csv\")"
   ]
  },
  {
   "cell_type": "code",
   "execution_count": null,
   "metadata": {},
   "outputs": [],
   "source": [
    "save_csv(df.rename(columns=names).fillna(\"\"), ensure_dir(\"csv\") / f\"{name}.csv\")"
   ]
  },
  {
   "cell_type": "code",
   "execution_count": null,
   "metadata": {},
   "outputs": [],
   "source": []
  }
 ],
 "metadata": {
  "interpreter": {
   "hash": "6429f210dbfecc927c626fb19dfa6f2569cb4dcb3e886165939e82bf1eae0ce3"
  },
  "kernelspec": {
   "display_name": "Python 3.10.4 ('.venv': poetry)",
   "language": "python",
   "name": "python3"
  },
  "language_info": {
   "codemirror_mode": {
    "name": "ipython",
    "version": 3
   },
   "file_extension": ".py",
   "mimetype": "text/x-python",
   "name": "python",
   "nbconvert_exporter": "python",
   "pygments_lexer": "ipython3",
   "version": "3.10.4"
  },
  "orig_nbformat": 4
 },
 "nbformat": 4,
 "nbformat_minor": 2
}
