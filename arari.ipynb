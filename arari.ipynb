{
 "cells": [
  {
   "cell_type": "code",
   "execution_count": null,
   "metadata": {},
   "outputs": [],
   "source": [
    "from utilities.common import fullpath, ensure_dir, load_csv, save_csv, dotdict\n",
    "import pandas as pd "
   ]
  },
  {
   "cell_type": "code",
   "execution_count": null,
   "metadata": {},
   "outputs": [],
   "source": [
    "files = dotdict()\n",
    "files.zaiko1 = fullpath(\"files/在庫(分類別_支社別_商品部)平成29年2月20日テーブル.xlsx\")\n",
    "files.zaiko2 = fullpath(\"files/在庫(分類別_支社別_商品部)平成29年2月28日テーブル.xlsx\")\n",
    "files.arari = fullpath(\"files/売上粗利（分類別_支社別）平成29年1月単月・累計テーブル.csv\")\n",
    "{ n: v.exists() for n, v in files.items() }"
   ]
  },
  {
   "cell_type": "code",
   "execution_count": null,
   "metadata": {},
   "outputs": [],
   "source": [
    "name = \"arari\"\n",
    "filename = files[name]\n",
    "df = load_csv(filename, encoding=\"cp932\")"
   ]
  },
  {
   "cell_type": "code",
   "execution_count": null,
   "metadata": {},
   "outputs": [],
   "source": [
    "df.transpose()[0]"
   ]
  },
  {
   "cell_type": "code",
   "execution_count": null,
   "metadata": {},
   "outputs": [],
   "source": [
    "names = {\n",
    "  \"営業支販ｺｰﾄﾞ(複合)\" : \"fukugo\",# 0102\n",
    "  \"部署\"              : \"busyo\"              ,# 小倉営業所\n",
    "  \"支社\"              : \"sisya\"              ,# 西日本\n",
    "  \"部\"                : \"bu\"               ,# 営業部\n",
    "  \"課\"                : \"ka\"               ,# 営業所\n",
    "  \"品種ｺｰﾄﾞ\"          :  \"hincd\"          ,# 015004122\n",
    "  \"[品種]品名\"        : \"hinnm\"       ,# Vﾑﾄｳｴﾋﾞ ｲﾝﾄﾞ\n",
    "  \"[品種]ｻｲｽﾞ\"        : \"size\"        ,# 13-15\n",
    "  \"[品種]容量\"        : \"yoryo\"       ,# 000004\n",
    "  \"[品種]重量\"        : \"juryo\"       ,# P\n",
    "  \"[品種]入数\"        : \"irisu\"       ,# 06\n",
    "  \"[品種]ＰＢ区分\"    : \"pb\"   ,#                          \n",
    "  \"品名/ｻｲｽﾞ等\"       : \"hinnm_size\"      ,# 015004122Vﾑﾄｳｴﾋﾞ ｲﾝﾄﾞ13-15000004P06\n",
    "  \"分類CD\"           : \"bunrui\"           ,# 101001\n",
    "  \"大分類\"           : \"daibun\"           ,# 101 バナメイ\n",
    "  \"中分類\"           : \"chubun\"           ,# 101001 バナメイ\n",
    "  \"小分類\"           : \"syobun\"           ,# バナメイエビ\n",
    "  \"種\"               : \"syu\"              ,# バナメイエビ\n",
    "  \"形状部位\"          : \"kejo\"         ,# 無頭\n",
    "  \"加工方法\"          : \"kako\"         ,# -\n",
    "  \"総-重量\"           : \"juryo\"          ,# 0\n",
    "  \"総-売上\"           : \"ukin\"          ,# 0\n",
    "  \"総-粗利\"           : \"arari\"          ,# 0\n",
    "  \"累計-総-重量\"      : \"rui_juryo\"     ,# 0.0324\n",
    "  \"累計-総-売上\"      : \"rui_ukin\"     ,# 6.765\n",
    "  \"累計-総-粗利\"      : \"rui_arari\"     ,# 1.365\n",
    "  \"外部-重量\"         : \"gai_juryo\"        ,# 0\n",
    "  \"外部-売上\"         : \"gai_ukin\"        ,# 0\n",
    "  \"外部-粗利\"         : \"gai_arari\"        ,# 0\n",
    "  \"累計-外部-重量\"    : \"rui_gai_juryo\"   ,# 0.0324\n",
    "  \"累計-外部-売上\"    : \"rui_gai_ukin\"   ,# 6.765\n",
    "  \"累計-外部-粗利\"    : \"rui_gai_arari\"   ,# 1.365\n",
    "}\n",
    "df.rename(columns=names).transpose()"
   ]
  },
  {
   "cell_type": "code",
   "execution_count": null,
   "metadata": {},
   "outputs": [],
   "source": [
    "columns = pd.DataFrame([dict(name=v, title=n) for n, v in names.items()])\n",
    "save_csv(columns, ensure_dir(\"csv\") / f\"{name}_columns.csv\")"
   ]
  },
  {
   "cell_type": "code",
   "execution_count": null,
   "metadata": {},
   "outputs": [],
   "source": [
    "save_csv(df.rename(columns=names).fillna(\"\"), ensure_dir(\"csv\") / f\"{name}.csv\")"
   ]
  },
  {
   "cell_type": "code",
   "execution_count": null,
   "metadata": {},
   "outputs": [],
   "source": []
  }
 ],
 "metadata": {
  "interpreter": {
   "hash": "6429f210dbfecc927c626fb19dfa6f2569cb4dcb3e886165939e82bf1eae0ce3"
  },
  "kernelspec": {
   "display_name": "Python 3.10.4 ('.venv': poetry)",
   "language": "python",
   "name": "python3"
  },
  "language_info": {
   "codemirror_mode": {
    "name": "ipython",
    "version": 3
   },
   "file_extension": ".py",
   "mimetype": "text/x-python",
   "name": "python",
   "nbconvert_exporter": "python",
   "pygments_lexer": "ipython3",
   "version": "3.10.4"
  },
  "orig_nbformat": 4
 },
 "nbformat": 4,
 "nbformat_minor": 2
}
